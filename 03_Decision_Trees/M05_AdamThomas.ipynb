{
 "cells": [
  {
   "cell_type": "markdown",
   "metadata": {},
   "source": [
    "AS.430.271.81: M05 - Adam Thomas\n",
    "\n",
    "# M05 Homework"
   ]
  },
  {
   "cell_type": "markdown",
   "metadata": {},
   "source": [
    "## Information Gain - Entropy"
   ]
  },
  {
   "cell_type": "code",
   "execution_count": 1,
   "metadata": {},
   "outputs": [],
   "source": [
    "# From docs here: https://docs.scipy.org/doc/scipy/reference/generated/scipy.stats.entropy.html\n",
    "import numpy as np\n",
    "from scipy.stats import entropy\n",
    "base = 2  # work in units of bits"
   ]
  },
  {
   "cell_type": "markdown",
   "metadata": {},
   "source": [
    "Compute H([9,4])"
   ]
  },
  {
   "cell_type": "code",
   "execution_count": 2,
   "metadata": {},
   "outputs": [
    {
     "data": {
      "text/plain": [
       "0.8904916402194913"
      ]
     },
     "execution_count": 2,
     "metadata": {},
     "output_type": "execute_result"
    }
   ],
   "source": [
    "entropy(np.array([9, 4]), base=base)"
   ]
  },
  {
   "cell_type": "markdown",
   "metadata": {},
   "source": [
    "Compute H([3,3])"
   ]
  },
  {
   "cell_type": "code",
   "execution_count": 3,
   "metadata": {},
   "outputs": [
    {
     "data": {
      "text/plain": [
       "1.0"
      ]
     },
     "execution_count": 3,
     "metadata": {},
     "output_type": "execute_result"
    }
   ],
   "source": [
    "entropy(np.array([3, 3]), base=base)"
   ]
  },
  {
   "cell_type": "markdown",
   "metadata": {},
   "source": [
    "## sklearn LabelEncoder"
   ]
  },
  {
   "cell_type": "code",
   "execution_count": 4,
   "metadata": {},
   "outputs": [],
   "source": [
    "from sklearn import preprocessing"
   ]
  },
  {
   "cell_type": "code",
   "execution_count": 5,
   "metadata": {},
   "outputs": [],
   "source": [
    "import pandas as pd\n",
    "import graphviz\n",
    "from sklearn import model_selection, tree, metrics"
   ]
  },
  {
   "cell_type": "markdown",
   "metadata": {},
   "source": [
    "Read the downloaded car data. Since there is no header to the data, we will assign explicitly column names."
   ]
  },
  {
   "cell_type": "code",
   "execution_count": 6,
   "metadata": {},
   "outputs": [
    {
     "data": {
      "text/html": [
       "<div>\n",
       "<style scoped>\n",
       "    .dataframe tbody tr th:only-of-type {\n",
       "        vertical-align: middle;\n",
       "    }\n",
       "\n",
       "    .dataframe tbody tr th {\n",
       "        vertical-align: top;\n",
       "    }\n",
       "\n",
       "    .dataframe thead th {\n",
       "        text-align: right;\n",
       "    }\n",
       "</style>\n",
       "<table border=\"1\" class=\"dataframe\">\n",
       "  <thead>\n",
       "    <tr style=\"text-align: right;\">\n",
       "      <th></th>\n",
       "      <th>buying</th>\n",
       "      <th>maint</th>\n",
       "      <th>doors</th>\n",
       "      <th>persons</th>\n",
       "      <th>lug_boot</th>\n",
       "      <th>safety</th>\n",
       "      <th>clazz</th>\n",
       "    </tr>\n",
       "  </thead>\n",
       "  <tbody>\n",
       "    <tr>\n",
       "      <th>0</th>\n",
       "      <td>vhigh</td>\n",
       "      <td>vhigh</td>\n",
       "      <td>2</td>\n",
       "      <td>2</td>\n",
       "      <td>small</td>\n",
       "      <td>low</td>\n",
       "      <td>unacc</td>\n",
       "    </tr>\n",
       "    <tr>\n",
       "      <th>1</th>\n",
       "      <td>vhigh</td>\n",
       "      <td>vhigh</td>\n",
       "      <td>2</td>\n",
       "      <td>2</td>\n",
       "      <td>small</td>\n",
       "      <td>med</td>\n",
       "      <td>unacc</td>\n",
       "    </tr>\n",
       "    <tr>\n",
       "      <th>2</th>\n",
       "      <td>vhigh</td>\n",
       "      <td>vhigh</td>\n",
       "      <td>2</td>\n",
       "      <td>2</td>\n",
       "      <td>small</td>\n",
       "      <td>high</td>\n",
       "      <td>unacc</td>\n",
       "    </tr>\n",
       "    <tr>\n",
       "      <th>3</th>\n",
       "      <td>vhigh</td>\n",
       "      <td>vhigh</td>\n",
       "      <td>2</td>\n",
       "      <td>2</td>\n",
       "      <td>med</td>\n",
       "      <td>low</td>\n",
       "      <td>unacc</td>\n",
       "    </tr>\n",
       "    <tr>\n",
       "      <th>4</th>\n",
       "      <td>vhigh</td>\n",
       "      <td>vhigh</td>\n",
       "      <td>2</td>\n",
       "      <td>2</td>\n",
       "      <td>med</td>\n",
       "      <td>med</td>\n",
       "      <td>unacc</td>\n",
       "    </tr>\n",
       "  </tbody>\n",
       "</table>\n",
       "</div>"
      ],
      "text/plain": [
       "  buying  maint doors persons lug_boot safety  clazz\n",
       "0  vhigh  vhigh     2       2    small    low  unacc\n",
       "1  vhigh  vhigh     2       2    small    med  unacc\n",
       "2  vhigh  vhigh     2       2    small   high  unacc\n",
       "3  vhigh  vhigh     2       2      med    low  unacc\n",
       "4  vhigh  vhigh     2       2      med    med  unacc"
      ]
     },
     "execution_count": 6,
     "metadata": {},
     "output_type": "execute_result"
    }
   ],
   "source": [
    "df = pd.read_csv('car.data', names=['buying','maint','doors','persons','lug_boot','safety','clazz'])\n",
    "df.head()"
   ]
  },
  {
   "cell_type": "markdown",
   "metadata": {},
   "source": [
    "Check the data size and types"
   ]
  },
  {
   "cell_type": "code",
   "execution_count": 7,
   "metadata": {},
   "outputs": [
    {
     "name": "stdout",
     "output_type": "stream",
     "text": [
      "<class 'pandas.core.frame.DataFrame'>\n",
      "RangeIndex: 1728 entries, 0 to 1727\n",
      "Data columns (total 7 columns):\n",
      " #   Column    Non-Null Count  Dtype \n",
      "---  ------    --------------  ----- \n",
      " 0   buying    1728 non-null   object\n",
      " 1   maint     1728 non-null   object\n",
      " 2   doors     1728 non-null   object\n",
      " 3   persons   1728 non-null   object\n",
      " 4   lug_boot  1728 non-null   object\n",
      " 5   safety    1728 non-null   object\n",
      " 6   clazz     1728 non-null   object\n",
      "dtypes: object(7)\n",
      "memory usage: 94.6+ KB\n"
     ]
    }
   ],
   "source": [
    "df.info()"
   ]
  },
  {
   "cell_type": "markdown",
   "metadata": {},
   "source": [
    "Use LabelEncoder **fit_transform** from https://scikit-learn.org/stable/modules/generated/sklearn.preprocessing.LabelEncoder.html\n",
    "to convert object classes to integer classes"
   ]
  },
  {
   "cell_type": "code",
   "execution_count": 8,
   "metadata": {},
   "outputs": [],
   "source": [
    "le = preprocessing.LabelEncoder()"
   ]
  },
  {
   "cell_type": "code",
   "execution_count": 9,
   "metadata": {},
   "outputs": [
    {
     "data": {
      "text/html": [
       "<div>\n",
       "<style scoped>\n",
       "    .dataframe tbody tr th:only-of-type {\n",
       "        vertical-align: middle;\n",
       "    }\n",
       "\n",
       "    .dataframe tbody tr th {\n",
       "        vertical-align: top;\n",
       "    }\n",
       "\n",
       "    .dataframe thead th {\n",
       "        text-align: right;\n",
       "    }\n",
       "</style>\n",
       "<table border=\"1\" class=\"dataframe\">\n",
       "  <thead>\n",
       "    <tr style=\"text-align: right;\">\n",
       "      <th></th>\n",
       "      <th>buying</th>\n",
       "      <th>maint</th>\n",
       "      <th>doors</th>\n",
       "      <th>persons</th>\n",
       "      <th>lug_boot</th>\n",
       "      <th>safety</th>\n",
       "      <th>clazz</th>\n",
       "    </tr>\n",
       "  </thead>\n",
       "  <tbody>\n",
       "    <tr>\n",
       "      <th>0</th>\n",
       "      <td>3</td>\n",
       "      <td>3</td>\n",
       "      <td>0</td>\n",
       "      <td>0</td>\n",
       "      <td>2</td>\n",
       "      <td>1</td>\n",
       "      <td>2</td>\n",
       "    </tr>\n",
       "    <tr>\n",
       "      <th>1</th>\n",
       "      <td>3</td>\n",
       "      <td>3</td>\n",
       "      <td>0</td>\n",
       "      <td>0</td>\n",
       "      <td>2</td>\n",
       "      <td>2</td>\n",
       "      <td>2</td>\n",
       "    </tr>\n",
       "    <tr>\n",
       "      <th>2</th>\n",
       "      <td>3</td>\n",
       "      <td>3</td>\n",
       "      <td>0</td>\n",
       "      <td>0</td>\n",
       "      <td>2</td>\n",
       "      <td>0</td>\n",
       "      <td>2</td>\n",
       "    </tr>\n",
       "    <tr>\n",
       "      <th>3</th>\n",
       "      <td>3</td>\n",
       "      <td>3</td>\n",
       "      <td>0</td>\n",
       "      <td>0</td>\n",
       "      <td>1</td>\n",
       "      <td>1</td>\n",
       "      <td>2</td>\n",
       "    </tr>\n",
       "    <tr>\n",
       "      <th>4</th>\n",
       "      <td>3</td>\n",
       "      <td>3</td>\n",
       "      <td>0</td>\n",
       "      <td>0</td>\n",
       "      <td>1</td>\n",
       "      <td>2</td>\n",
       "      <td>2</td>\n",
       "    </tr>\n",
       "  </tbody>\n",
       "</table>\n",
       "</div>"
      ],
      "text/plain": [
       "   buying  maint  doors  persons  lug_boot  safety  clazz\n",
       "0       3      3      0        0         2       1      2\n",
       "1       3      3      0        0         2       2      2\n",
       "2       3      3      0        0         2       0      2\n",
       "3       3      3      0        0         1       1      2\n",
       "4       3      3      0        0         1       2      2"
      ]
     },
     "execution_count": 9,
     "metadata": {},
     "output_type": "execute_result"
    }
   ],
   "source": [
    "df.buying = le.fit_transform(df.buying)\n",
    "df.maint = le.fit_transform(df.maint)\n",
    "df.doors = le.fit_transform(df.doors)\n",
    "df.persons = le.fit_transform(df.persons)\n",
    "df.lug_boot = le.fit_transform(df.lug_boot)\n",
    "df.safety = le.fit_transform(df.safety)\n",
    "clazz_names = pd.unique(df.clazz) # Note here, I'm saving the names for later use !\n",
    "df.clazz = le.fit_transform(df.clazz)\n",
    "df.head()"
   ]
  },
  {
   "cell_type": "code",
   "execution_count": 10,
   "metadata": {},
   "outputs": [
    {
     "data": {
      "text/plain": [
       "array(['unacc', 'acc', 'vgood', 'good'], dtype=object)"
      ]
     },
     "execution_count": 10,
     "metadata": {},
     "output_type": "execute_result"
    }
   ],
   "source": [
    "clazz_names"
   ]
  },
  {
   "cell_type": "markdown",
   "metadata": {},
   "source": [
    "Extract independent (X) and dependent (y) variables."
   ]
  },
  {
   "cell_type": "code",
   "execution_count": 11,
   "metadata": {},
   "outputs": [],
   "source": [
    "X = df.iloc[:,:-1]  # Everything but the last column\n",
    "y = df.iloc[:,-1]  # The last column"
   ]
  },
  {
   "cell_type": "markdown",
   "metadata": {},
   "source": [
    "Create training (80%) and validation data (20%)"
   ]
  },
  {
   "cell_type": "code",
   "execution_count": 12,
   "metadata": {},
   "outputs": [],
   "source": [
    "X_train, X_valid, y_train, y_valid = model_selection.train_test_split(X, y, test_size=0.2, random_state=42)"
   ]
  },
  {
   "cell_type": "markdown",
   "metadata": {},
   "source": [
    "Create a decision tree classifier using 'gini' method for information gain and set the max tree depth to 3."
   ]
  },
  {
   "cell_type": "code",
   "execution_count": 13,
   "metadata": {},
   "outputs": [],
   "source": [
    "dtc = tree.DecisionTreeClassifier(criterion='gini', max_depth=3, random_state=42)"
   ]
  },
  {
   "cell_type": "code",
   "execution_count": 14,
   "metadata": {},
   "outputs": [],
   "source": [
    "dtc = dtc.fit(X_train, y_train)"
   ]
  },
  {
   "cell_type": "markdown",
   "metadata": {},
   "source": [
    "Let's see how well we did"
   ]
  },
  {
   "cell_type": "code",
   "execution_count": 15,
   "metadata": {},
   "outputs": [
    {
     "data": {
      "text/plain": [
       "0.7427745664739884"
      ]
     },
     "execution_count": 15,
     "metadata": {},
     "output_type": "execute_result"
    }
   ],
   "source": [
    "y_pred = dtc.predict(X_valid)\n",
    "metrics.accuracy_score(y_pred, y_valid)"
   ]
  },
  {
   "cell_type": "markdown",
   "metadata": {},
   "source": [
    "Let's visualize the tree"
   ]
  },
  {
   "cell_type": "code",
   "execution_count": 16,
   "metadata": {},
   "outputs": [
    {
     "data": {
      "image/svg+xml": [
       "<?xml version=\"1.0\" encoding=\"UTF-8\" standalone=\"no\"?>\n",
       "<!DOCTYPE svg PUBLIC \"-//W3C//DTD SVG 1.1//EN\"\n",
       " \"http://www.w3.org/Graphics/SVG/1.1/DTD/svg11.dtd\">\n",
       "<!-- Generated by graphviz version 7.1.0 (20230122.1345)\n",
       " -->\n",
       "<!-- Title: Tree Pages: 1 -->\n",
       "<svg width=\"798pt\" height=\"433pt\"\n",
       " viewBox=\"0.00 0.00 798.00 433.00\" xmlns=\"http://www.w3.org/2000/svg\" xmlns:xlink=\"http://www.w3.org/1999/xlink\">\n",
       "<g id=\"graph0\" class=\"graph\" transform=\"scale(1 1) rotate(0) translate(4 429)\">\n",
       "<title>Tree</title>\n",
       "<polygon fill=\"white\" stroke=\"none\" points=\"-4,4 -4,-429 794,-429 794,4 -4,4\"/>\n",
       "<!-- 0 -->\n",
       "<g id=\"node1\" class=\"node\">\n",
       "<title>0</title>\n",
       "<path fill=\"#84c2ef\" stroke=\"black\" d=\"M382.5,-425C382.5,-425 203.5,-425 203.5,-425 197.5,-425 191.5,-419 191.5,-413 191.5,-413 191.5,-354 191.5,-354 191.5,-348 197.5,-342 203.5,-342 203.5,-342 382.5,-342 382.5,-342 388.5,-342 394.5,-348 394.5,-354 394.5,-354 394.5,-413 394.5,-413 394.5,-419 388.5,-425 382.5,-425\"/>\n",
       "<text text-anchor=\"start\" x=\"243\" y=\"-409.8\" font-family=\"Helvetica,sans-Serif\" font-size=\"14.00\">persons ≤ 0.5</text>\n",
       "<text text-anchor=\"start\" x=\"249\" y=\"-394.8\" font-family=\"Helvetica,sans-Serif\" font-size=\"14.00\">gini = 0.452</text>\n",
       "<text text-anchor=\"start\" x=\"235.5\" y=\"-379.8\" font-family=\"Helvetica,sans-Serif\" font-size=\"14.00\">samples = 1382</text>\n",
       "<text text-anchor=\"start\" x=\"199.5\" y=\"-364.8\" font-family=\"Helvetica,sans-Serif\" font-size=\"14.00\">value = [301, 58, 975, 48]</text>\n",
       "<text text-anchor=\"start\" x=\"243.5\" y=\"-349.8\" font-family=\"Helvetica,sans-Serif\" font-size=\"14.00\">class = vgood</text>\n",
       "</g>\n",
       "<!-- 1 -->\n",
       "<g id=\"node2\" class=\"node\">\n",
       "<title>1</title>\n",
       "<path fill=\"#399de5\" stroke=\"black\" d=\"M263.5,-298.5C263.5,-298.5 120.5,-298.5 120.5,-298.5 114.5,-298.5 108.5,-292.5 108.5,-286.5 108.5,-286.5 108.5,-242.5 108.5,-242.5 108.5,-236.5 114.5,-230.5 120.5,-230.5 120.5,-230.5 263.5,-230.5 263.5,-230.5 269.5,-230.5 275.5,-236.5 275.5,-242.5 275.5,-242.5 275.5,-286.5 275.5,-286.5 275.5,-292.5 269.5,-298.5 263.5,-298.5\"/>\n",
       "<text text-anchor=\"start\" x=\"157\" y=\"-283.3\" font-family=\"Helvetica,sans-Serif\" font-size=\"14.00\">gini = 0.0</text>\n",
       "<text text-anchor=\"start\" x=\"139\" y=\"-268.3\" font-family=\"Helvetica,sans-Serif\" font-size=\"14.00\">samples = 450</text>\n",
       "<text text-anchor=\"start\" x=\"116.5\" y=\"-253.3\" font-family=\"Helvetica,sans-Serif\" font-size=\"14.00\">value = [0, 0, 450, 0]</text>\n",
       "<text text-anchor=\"start\" x=\"142.5\" y=\"-238.3\" font-family=\"Helvetica,sans-Serif\" font-size=\"14.00\">class = vgood</text>\n",
       "</g>\n",
       "<!-- 0&#45;&gt;1 -->\n",
       "<g id=\"edge1\" class=\"edge\">\n",
       "<title>0&#45;&gt;1</title>\n",
       "<path fill=\"none\" stroke=\"black\" d=\"M257.68,-341.58C248.16,-330.56 237.85,-318.61 228.28,-307.53\"/>\n",
       "<polygon fill=\"black\" stroke=\"black\" points=\"230.97,-305.29 221.79,-300.01 225.67,-309.86 230.97,-305.29\"/>\n",
       "<text text-anchor=\"middle\" x=\"218.97\" y=\"-320.09\" font-family=\"Helvetica,sans-Serif\" font-size=\"14.00\">True</text>\n",
       "</g>\n",
       "<!-- 2 -->\n",
       "<g id=\"node3\" class=\"node\">\n",
       "<title>2</title>\n",
       "<path fill=\"#b9dcf6\" stroke=\"black\" d=\"M484.5,-306C484.5,-306 305.5,-306 305.5,-306 299.5,-306 293.5,-300 293.5,-294 293.5,-294 293.5,-235 293.5,-235 293.5,-229 299.5,-223 305.5,-223 305.5,-223 484.5,-223 484.5,-223 490.5,-223 496.5,-229 496.5,-235 496.5,-235 496.5,-294 496.5,-294 496.5,-300 490.5,-306 484.5,-306\"/>\n",
       "<text text-anchor=\"start\" x=\"351.5\" y=\"-290.8\" font-family=\"Helvetica,sans-Serif\" font-size=\"14.00\">safety ≤ 0.5</text>\n",
       "<text text-anchor=\"start\" x=\"351\" y=\"-275.8\" font-family=\"Helvetica,sans-Serif\" font-size=\"14.00\">gini = 0.572</text>\n",
       "<text text-anchor=\"start\" x=\"342\" y=\"-260.8\" font-family=\"Helvetica,sans-Serif\" font-size=\"14.00\">samples = 932</text>\n",
       "<text text-anchor=\"start\" x=\"301.5\" y=\"-245.8\" font-family=\"Helvetica,sans-Serif\" font-size=\"14.00\">value = [301, 58, 525, 48]</text>\n",
       "<text text-anchor=\"start\" x=\"345.5\" y=\"-230.8\" font-family=\"Helvetica,sans-Serif\" font-size=\"14.00\">class = vgood</text>\n",
       "</g>\n",
       "<!-- 0&#45;&gt;2 -->\n",
       "<g id=\"edge2\" class=\"edge\">\n",
       "<title>0&#45;&gt;2</title>\n",
       "<path fill=\"none\" stroke=\"black\" d=\"M328.67,-341.58C336.25,-332.89 344.32,-323.63 352.13,-314.67\"/>\n",
       "<polygon fill=\"black\" stroke=\"black\" points=\"354.59,-317.18 358.52,-307.34 349.31,-312.58 354.59,-317.18\"/>\n",
       "<text text-anchor=\"middle\" x=\"361.23\" y=\"-327.44\" font-family=\"Helvetica,sans-Serif\" font-size=\"14.00\">False</text>\n",
       "</g>\n",
       "<!-- 3 -->\n",
       "<g id=\"node4\" class=\"node\">\n",
       "<title>3</title>\n",
       "<path fill=\"#f4ccae\" stroke=\"black\" d=\"M374,-187C374,-187 204,-187 204,-187 198,-187 192,-181 192,-175 192,-175 192,-116 192,-116 192,-110 198,-104 204,-104 204,-104 374,-104 374,-104 380,-104 386,-110 386,-116 386,-116 386,-175 386,-175 386,-181 380,-187 374,-187\"/>\n",
       "<text text-anchor=\"start\" x=\"243\" y=\"-171.8\" font-family=\"Helvetica,sans-Serif\" font-size=\"14.00\">buying ≤ 2.5</text>\n",
       "<text text-anchor=\"start\" x=\"245\" y=\"-156.8\" font-family=\"Helvetica,sans-Serif\" font-size=\"14.00\">gini = 0.629</text>\n",
       "<text text-anchor=\"start\" x=\"236\" y=\"-141.8\" font-family=\"Helvetica,sans-Serif\" font-size=\"14.00\">samples = 306</text>\n",
       "<text text-anchor=\"start\" x=\"200\" y=\"-126.8\" font-family=\"Helvetica,sans-Serif\" font-size=\"14.00\">value = [165, 25, 68, 48]</text>\n",
       "<text text-anchor=\"start\" x=\"240.5\" y=\"-111.8\" font-family=\"Helvetica,sans-Serif\" font-size=\"14.00\">class = unacc</text>\n",
       "</g>\n",
       "<!-- 2&#45;&gt;3 -->\n",
       "<g id=\"edge3\" class=\"edge\">\n",
       "<title>2&#45;&gt;3</title>\n",
       "<path fill=\"none\" stroke=\"black\" d=\"M357.93,-222.58C350.05,-213.89 341.67,-204.63 333.55,-195.67\"/>\n",
       "<polygon fill=\"black\" stroke=\"black\" points=\"336.2,-193.38 326.89,-188.32 331.01,-198.08 336.2,-193.38\"/>\n",
       "</g>\n",
       "<!-- 6 -->\n",
       "<g id=\"node7\" class=\"node\">\n",
       "<title>6</title>\n",
       "<path fill=\"#7dbfee\" stroke=\"black\" d=\"M586,-187C586,-187 416,-187 416,-187 410,-187 404,-181 404,-175 404,-175 404,-116 404,-116 404,-110 410,-104 416,-104 416,-104 586,-104 586,-104 592,-104 598,-110 598,-116 598,-116 598,-175 598,-175 598,-181 592,-187 586,-187\"/>\n",
       "<text text-anchor=\"start\" x=\"457.5\" y=\"-171.8\" font-family=\"Helvetica,sans-Serif\" font-size=\"14.00\">safety ≤ 1.5</text>\n",
       "<text text-anchor=\"start\" x=\"457\" y=\"-156.8\" font-family=\"Helvetica,sans-Serif\" font-size=\"14.00\">gini = 0.417</text>\n",
       "<text text-anchor=\"start\" x=\"448\" y=\"-141.8\" font-family=\"Helvetica,sans-Serif\" font-size=\"14.00\">samples = 626</text>\n",
       "<text text-anchor=\"start\" x=\"412\" y=\"-126.8\" font-family=\"Helvetica,sans-Serif\" font-size=\"14.00\">value = [136, 33, 457, 0]</text>\n",
       "<text text-anchor=\"start\" x=\"451.5\" y=\"-111.8\" font-family=\"Helvetica,sans-Serif\" font-size=\"14.00\">class = vgood</text>\n",
       "</g>\n",
       "<!-- 2&#45;&gt;6 -->\n",
       "<g id=\"edge6\" class=\"edge\">\n",
       "<title>2&#45;&gt;6</title>\n",
       "<path fill=\"none\" stroke=\"black\" d=\"M432.07,-222.58C439.95,-213.89 448.33,-204.63 456.45,-195.67\"/>\n",
       "<polygon fill=\"black\" stroke=\"black\" points=\"458.99,-198.08 463.11,-188.32 453.8,-193.38 458.99,-198.08\"/>\n",
       "</g>\n",
       "<!-- 4 -->\n",
       "<g id=\"node5\" class=\"node\">\n",
       "<title>4</title>\n",
       "<path fill=\"#f3c7a7\" stroke=\"black\" d=\"M182,-68C182,-68 12,-68 12,-68 6,-68 0,-62 0,-56 0,-56 0,-12 0,-12 0,-6 6,0 12,0 12,0 182,0 182,0 188,0 194,-6 194,-12 194,-12 194,-56 194,-56 194,-62 188,-68 182,-68\"/>\n",
       "<text text-anchor=\"start\" x=\"53\" y=\"-52.8\" font-family=\"Helvetica,sans-Serif\" font-size=\"14.00\">gini = 0.615</text>\n",
       "<text text-anchor=\"start\" x=\"44\" y=\"-37.8\" font-family=\"Helvetica,sans-Serif\" font-size=\"14.00\">samples = 230</text>\n",
       "<text text-anchor=\"start\" x=\"8\" y=\"-22.8\" font-family=\"Helvetica,sans-Serif\" font-size=\"14.00\">value = [129, 25, 28, 48]</text>\n",
       "<text text-anchor=\"start\" x=\"48.5\" y=\"-7.8\" font-family=\"Helvetica,sans-Serif\" font-size=\"14.00\">class = unacc</text>\n",
       "</g>\n",
       "<!-- 3&#45;&gt;4 -->\n",
       "<g id=\"edge4\" class=\"edge\">\n",
       "<title>3&#45;&gt;4</title>\n",
       "<path fill=\"none\" stroke=\"black\" d=\"M217.23,-103.57C200.23,-93.87 182.13,-83.55 165.29,-73.95\"/>\n",
       "<polygon fill=\"black\" stroke=\"black\" points=\"167.27,-71.04 156.85,-69.13 163.8,-77.13 167.27,-71.04\"/>\n",
       "</g>\n",
       "<!-- 5 -->\n",
       "<g id=\"node6\" class=\"node\">\n",
       "<title>5</title>\n",
       "<path fill=\"#ebf5fc\" stroke=\"black\" d=\"M367.5,-68C367.5,-68 224.5,-68 224.5,-68 218.5,-68 212.5,-62 212.5,-56 212.5,-56 212.5,-12 212.5,-12 212.5,-6 218.5,0 224.5,0 224.5,0 367.5,0 367.5,0 373.5,0 379.5,-6 379.5,-12 379.5,-12 379.5,-56 379.5,-56 379.5,-62 373.5,-68 367.5,-68\"/>\n",
       "<text text-anchor=\"start\" x=\"252\" y=\"-52.8\" font-family=\"Helvetica,sans-Serif\" font-size=\"14.00\">gini = 0.499</text>\n",
       "<text text-anchor=\"start\" x=\"247.5\" y=\"-37.8\" font-family=\"Helvetica,sans-Serif\" font-size=\"14.00\">samples = 76</text>\n",
       "<text text-anchor=\"start\" x=\"220.5\" y=\"-22.8\" font-family=\"Helvetica,sans-Serif\" font-size=\"14.00\">value = [36, 0, 40, 0]</text>\n",
       "<text text-anchor=\"start\" x=\"246.5\" y=\"-7.8\" font-family=\"Helvetica,sans-Serif\" font-size=\"14.00\">class = vgood</text>\n",
       "</g>\n",
       "<!-- 3&#45;&gt;5 -->\n",
       "<g id=\"edge5\" class=\"edge\">\n",
       "<title>3&#45;&gt;5</title>\n",
       "<path fill=\"none\" stroke=\"black\" d=\"M291.61,-103.73C292.11,-95.88 292.64,-87.63 293.14,-79.67\"/>\n",
       "<polygon fill=\"black\" stroke=\"black\" points=\"296.63,-80.01 293.77,-69.81 289.64,-79.57 296.63,-80.01\"/>\n",
       "</g>\n",
       "<!-- 7 -->\n",
       "<g id=\"node8\" class=\"node\">\n",
       "<title>7</title>\n",
       "<path fill=\"#399de5\" stroke=\"black\" d=\"M565.5,-68C565.5,-68 422.5,-68 422.5,-68 416.5,-68 410.5,-62 410.5,-56 410.5,-56 410.5,-12 410.5,-12 410.5,-6 416.5,0 422.5,0 422.5,0 565.5,0 565.5,0 571.5,0 577.5,-6 577.5,-12 577.5,-12 577.5,-56 577.5,-56 577.5,-62 571.5,-68 565.5,-68\"/>\n",
       "<text text-anchor=\"start\" x=\"459\" y=\"-52.8\" font-family=\"Helvetica,sans-Serif\" font-size=\"14.00\">gini = 0.0</text>\n",
       "<text text-anchor=\"start\" x=\"441\" y=\"-37.8\" font-family=\"Helvetica,sans-Serif\" font-size=\"14.00\">samples = 317</text>\n",
       "<text text-anchor=\"start\" x=\"418.5\" y=\"-22.8\" font-family=\"Helvetica,sans-Serif\" font-size=\"14.00\">value = [0, 0, 317, 0]</text>\n",
       "<text text-anchor=\"start\" x=\"444.5\" y=\"-7.8\" font-family=\"Helvetica,sans-Serif\" font-size=\"14.00\">class = vgood</text>\n",
       "</g>\n",
       "<!-- 6&#45;&gt;7 -->\n",
       "<g id=\"edge7\" class=\"edge\">\n",
       "<title>6&#45;&gt;7</title>\n",
       "<path fill=\"none\" stroke=\"black\" d=\"M498.39,-103.73C497.89,-95.88 497.36,-87.63 496.86,-79.67\"/>\n",
       "<polygon fill=\"black\" stroke=\"black\" points=\"500.36,-79.57 496.23,-69.81 493.37,-80.01 500.36,-79.57\"/>\n",
       "</g>\n",
       "<!-- 8 -->\n",
       "<g id=\"node9\" class=\"node\">\n",
       "<title>8</title>\n",
       "<path fill=\"#fafdfe\" stroke=\"black\" d=\"M778,-68C778,-68 608,-68 608,-68 602,-68 596,-62 596,-56 596,-56 596,-12 596,-12 596,-6 602,0 608,0 608,0 778,0 778,0 784,0 790,-6 790,-12 790,-12 790,-56 790,-56 790,-62 784,-68 778,-68\"/>\n",
       "<text text-anchor=\"start\" x=\"653.5\" y=\"-52.8\" font-family=\"Helvetica,sans-Serif\" font-size=\"14.00\">gini = 0.59</text>\n",
       "<text text-anchor=\"start\" x=\"640\" y=\"-37.8\" font-family=\"Helvetica,sans-Serif\" font-size=\"14.00\">samples = 309</text>\n",
       "<text text-anchor=\"start\" x=\"604\" y=\"-22.8\" font-family=\"Helvetica,sans-Serif\" font-size=\"14.00\">value = [136, 33, 140, 0]</text>\n",
       "<text text-anchor=\"start\" x=\"643.5\" y=\"-7.8\" font-family=\"Helvetica,sans-Serif\" font-size=\"14.00\">class = vgood</text>\n",
       "</g>\n",
       "<!-- 6&#45;&gt;8 -->\n",
       "<g id=\"edge8\" class=\"edge\">\n",
       "<title>6&#45;&gt;8</title>\n",
       "<path fill=\"none\" stroke=\"black\" d=\"M572.77,-103.57C589.77,-93.87 607.87,-83.55 624.71,-73.95\"/>\n",
       "<polygon fill=\"black\" stroke=\"black\" points=\"626.2,-77.13 633.15,-69.13 622.73,-71.04 626.2,-77.13\"/>\n",
       "</g>\n",
       "</g>\n",
       "</svg>\n"
      ],
      "text/plain": [
       "<graphviz.sources.Source at 0x7fdda9b65ff0>"
      ]
     },
     "execution_count": 16,
     "metadata": {},
     "output_type": "execute_result"
    }
   ],
   "source": [
    "dot_data = tree.export_graphviz(dtc,\n",
    "                                out_file=None,\n",
    "                                feature_names=X.columns,\n",
    "                                class_names=clazz_names,\n",
    "                                filled=True,\n",
    "                                rounded=True,\n",
    "                                special_characters=True)  \n",
    "graph = graphviz.Source(dot_data)  \n",
    "graph"
   ]
  },
  {
   "cell_type": "markdown",
   "metadata": {},
   "source": [
    "## Adjust the classifier parameters\n",
    "Adjust the classifier parameters from above to see if we can improve the accuracy.\n",
    "\n",
    "Create a decision tree classifier using 'entropy' method and set the max tree depth to 4."
   ]
  },
  {
   "cell_type": "code",
   "execution_count": 17,
   "metadata": {},
   "outputs": [],
   "source": [
    "dtc = tree.DecisionTreeClassifier(criterion='entropy', max_depth=4, random_state=42)\n",
    "dtc = dtc.fit(X_train, y_train)"
   ]
  },
  {
   "cell_type": "markdown",
   "metadata": {},
   "source": [
    "Let's see how well we did"
   ]
  },
  {
   "cell_type": "code",
   "execution_count": 18,
   "metadata": {},
   "outputs": [
    {
     "data": {
      "text/plain": [
       "0.8236994219653179"
      ]
     },
     "execution_count": 18,
     "metadata": {},
     "output_type": "execute_result"
    }
   ],
   "source": [
    "y_pred = dtc.predict(X_valid)\n",
    "metrics.accuracy_score(y_pred, y_valid)"
   ]
  },
  {
   "cell_type": "markdown",
   "metadata": {},
   "source": [
    "Let's visualize the tree"
   ]
  },
  {
   "cell_type": "code",
   "execution_count": 19,
   "metadata": {},
   "outputs": [
    {
     "data": {
      "image/svg+xml": [
       "<?xml version=\"1.0\" encoding=\"UTF-8\" standalone=\"no\"?>\n",
       "<!DOCTYPE svg PUBLIC \"-//W3C//DTD SVG 1.1//EN\"\n",
       " \"http://www.w3.org/Graphics/SVG/1.1/DTD/svg11.dtd\">\n",
       "<!-- Generated by graphviz version 7.1.0 (20230122.1345)\n",
       " -->\n",
       "<!-- Title: Tree Pages: 1 -->\n",
       "<svg width=\"1138pt\" height=\"552pt\"\n",
       " viewBox=\"0.00 0.00 1138.00 552.00\" xmlns=\"http://www.w3.org/2000/svg\" xmlns:xlink=\"http://www.w3.org/1999/xlink\">\n",
       "<g id=\"graph0\" class=\"graph\" transform=\"scale(1 1) rotate(0) translate(4 548)\">\n",
       "<title>Tree</title>\n",
       "<polygon fill=\"white\" stroke=\"none\" points=\"-4,4 -4,-548 1134,-548 1134,4 -4,4\"/>\n",
       "<!-- 0 -->\n",
       "<g id=\"node1\" class=\"node\">\n",
       "<title>0</title>\n",
       "<path fill=\"#84c2ef\" stroke=\"black\" d=\"M556,-544C556,-544 377,-544 377,-544 371,-544 365,-538 365,-532 365,-532 365,-473 365,-473 365,-467 371,-461 377,-461 377,-461 556,-461 556,-461 562,-461 568,-467 568,-473 568,-473 568,-532 568,-532 568,-538 562,-544 556,-544\"/>\n",
       "<text text-anchor=\"start\" x=\"416.5\" y=\"-528.8\" font-family=\"Helvetica,sans-Serif\" font-size=\"14.00\">persons ≤ 0.5</text>\n",
       "<text text-anchor=\"start\" x=\"409\" y=\"-513.8\" font-family=\"Helvetica,sans-Serif\" font-size=\"14.00\">entropy = 1.194</text>\n",
       "<text text-anchor=\"start\" x=\"409\" y=\"-498.8\" font-family=\"Helvetica,sans-Serif\" font-size=\"14.00\">samples = 1382</text>\n",
       "<text text-anchor=\"start\" x=\"373\" y=\"-483.8\" font-family=\"Helvetica,sans-Serif\" font-size=\"14.00\">value = [301, 58, 975, 48]</text>\n",
       "<text text-anchor=\"start\" x=\"417\" y=\"-468.8\" font-family=\"Helvetica,sans-Serif\" font-size=\"14.00\">class = vgood</text>\n",
       "</g>\n",
       "<!-- 1 -->\n",
       "<g id=\"node2\" class=\"node\">\n",
       "<title>1</title>\n",
       "<path fill=\"#399de5\" stroke=\"black\" d=\"M437,-417.5C437,-417.5 294,-417.5 294,-417.5 288,-417.5 282,-411.5 282,-405.5 282,-405.5 282,-361.5 282,-361.5 282,-355.5 288,-349.5 294,-349.5 294,-349.5 437,-349.5 437,-349.5 443,-349.5 449,-355.5 449,-361.5 449,-361.5 449,-405.5 449,-405.5 449,-411.5 443,-417.5 437,-417.5\"/>\n",
       "<text text-anchor=\"start\" x=\"317\" y=\"-402.3\" font-family=\"Helvetica,sans-Serif\" font-size=\"14.00\">entropy = 0.0</text>\n",
       "<text text-anchor=\"start\" x=\"312.5\" y=\"-387.3\" font-family=\"Helvetica,sans-Serif\" font-size=\"14.00\">samples = 450</text>\n",
       "<text text-anchor=\"start\" x=\"290\" y=\"-372.3\" font-family=\"Helvetica,sans-Serif\" font-size=\"14.00\">value = [0, 0, 450, 0]</text>\n",
       "<text text-anchor=\"start\" x=\"316\" y=\"-357.3\" font-family=\"Helvetica,sans-Serif\" font-size=\"14.00\">class = vgood</text>\n",
       "</g>\n",
       "<!-- 0&#45;&gt;1 -->\n",
       "<g id=\"edge1\" class=\"edge\">\n",
       "<title>0&#45;&gt;1</title>\n",
       "<path fill=\"none\" stroke=\"black\" d=\"M431.18,-460.58C421.66,-449.56 411.35,-437.61 401.78,-426.53\"/>\n",
       "<polygon fill=\"black\" stroke=\"black\" points=\"404.47,-424.29 395.29,-419.01 399.17,-428.86 404.47,-424.29\"/>\n",
       "<text text-anchor=\"middle\" x=\"392.47\" y=\"-439.09\" font-family=\"Helvetica,sans-Serif\" font-size=\"14.00\">True</text>\n",
       "</g>\n",
       "<!-- 2 -->\n",
       "<g id=\"node3\" class=\"node\">\n",
       "<title>2</title>\n",
       "<path fill=\"#b9dcf6\" stroke=\"black\" d=\"M658,-425C658,-425 479,-425 479,-425 473,-425 467,-419 467,-413 467,-413 467,-354 467,-354 467,-348 473,-342 479,-342 479,-342 658,-342 658,-342 664,-342 670,-348 670,-354 670,-354 670,-413 670,-413 670,-419 664,-425 658,-425\"/>\n",
       "<text text-anchor=\"start\" x=\"525\" y=\"-409.8\" font-family=\"Helvetica,sans-Serif\" font-size=\"14.00\">safety ≤ 0.5</text>\n",
       "<text text-anchor=\"start\" x=\"511\" y=\"-394.8\" font-family=\"Helvetica,sans-Serif\" font-size=\"14.00\">entropy = 1.463</text>\n",
       "<text text-anchor=\"start\" x=\"515.5\" y=\"-379.8\" font-family=\"Helvetica,sans-Serif\" font-size=\"14.00\">samples = 932</text>\n",
       "<text text-anchor=\"start\" x=\"475\" y=\"-364.8\" font-family=\"Helvetica,sans-Serif\" font-size=\"14.00\">value = [301, 58, 525, 48]</text>\n",
       "<text text-anchor=\"start\" x=\"519\" y=\"-349.8\" font-family=\"Helvetica,sans-Serif\" font-size=\"14.00\">class = vgood</text>\n",
       "</g>\n",
       "<!-- 0&#45;&gt;2 -->\n",
       "<g id=\"edge2\" class=\"edge\">\n",
       "<title>0&#45;&gt;2</title>\n",
       "<path fill=\"none\" stroke=\"black\" d=\"M502.17,-460.58C509.75,-451.89 517.82,-442.63 525.63,-433.67\"/>\n",
       "<polygon fill=\"black\" stroke=\"black\" points=\"528.09,-436.18 532.02,-426.34 522.81,-431.58 528.09,-436.18\"/>\n",
       "<text text-anchor=\"middle\" x=\"534.73\" y=\"-446.44\" font-family=\"Helvetica,sans-Serif\" font-size=\"14.00\">False</text>\n",
       "</g>\n",
       "<!-- 3 -->\n",
       "<g id=\"node4\" class=\"node\">\n",
       "<title>3</title>\n",
       "<path fill=\"#f4ccae\" stroke=\"black\" d=\"M547.5,-306C547.5,-306 377.5,-306 377.5,-306 371.5,-306 365.5,-300 365.5,-294 365.5,-294 365.5,-235 365.5,-235 365.5,-229 371.5,-223 377.5,-223 377.5,-223 547.5,-223 547.5,-223 553.5,-223 559.5,-229 559.5,-235 559.5,-235 559.5,-294 559.5,-294 559.5,-300 553.5,-306 547.5,-306\"/>\n",
       "<text text-anchor=\"start\" x=\"416.5\" y=\"-290.8\" font-family=\"Helvetica,sans-Serif\" font-size=\"14.00\">buying ≤ 2.5</text>\n",
       "<text text-anchor=\"start\" x=\"405\" y=\"-275.8\" font-family=\"Helvetica,sans-Serif\" font-size=\"14.00\">entropy = 1.677</text>\n",
       "<text text-anchor=\"start\" x=\"409.5\" y=\"-260.8\" font-family=\"Helvetica,sans-Serif\" font-size=\"14.00\">samples = 306</text>\n",
       "<text text-anchor=\"start\" x=\"373.5\" y=\"-245.8\" font-family=\"Helvetica,sans-Serif\" font-size=\"14.00\">value = [165, 25, 68, 48]</text>\n",
       "<text text-anchor=\"start\" x=\"414\" y=\"-230.8\" font-family=\"Helvetica,sans-Serif\" font-size=\"14.00\">class = unacc</text>\n",
       "</g>\n",
       "<!-- 2&#45;&gt;3 -->\n",
       "<g id=\"edge3\" class=\"edge\">\n",
       "<title>2&#45;&gt;3</title>\n",
       "<path fill=\"none\" stroke=\"black\" d=\"M531.43,-341.58C523.55,-332.89 515.17,-323.63 507.05,-314.67\"/>\n",
       "<polygon fill=\"black\" stroke=\"black\" points=\"509.7,-312.38 500.39,-307.32 504.51,-317.08 509.7,-312.38\"/>\n",
       "</g>\n",
       "<!-- 10 -->\n",
       "<g id=\"node11\" class=\"node\">\n",
       "<title>10</title>\n",
       "<path fill=\"#7dbfee\" stroke=\"black\" d=\"M759.5,-306C759.5,-306 589.5,-306 589.5,-306 583.5,-306 577.5,-300 577.5,-294 577.5,-294 577.5,-235 577.5,-235 577.5,-229 583.5,-223 589.5,-223 589.5,-223 759.5,-223 759.5,-223 765.5,-223 771.5,-229 771.5,-235 771.5,-235 771.5,-294 771.5,-294 771.5,-300 765.5,-306 759.5,-306\"/>\n",
       "<text text-anchor=\"start\" x=\"631\" y=\"-290.8\" font-family=\"Helvetica,sans-Serif\" font-size=\"14.00\">safety ≤ 1.5</text>\n",
       "<text text-anchor=\"start\" x=\"617\" y=\"-275.8\" font-family=\"Helvetica,sans-Serif\" font-size=\"14.00\">entropy = 1.034</text>\n",
       "<text text-anchor=\"start\" x=\"621.5\" y=\"-260.8\" font-family=\"Helvetica,sans-Serif\" font-size=\"14.00\">samples = 626</text>\n",
       "<text text-anchor=\"start\" x=\"585.5\" y=\"-245.8\" font-family=\"Helvetica,sans-Serif\" font-size=\"14.00\">value = [136, 33, 457, 0]</text>\n",
       "<text text-anchor=\"start\" x=\"625\" y=\"-230.8\" font-family=\"Helvetica,sans-Serif\" font-size=\"14.00\">class = vgood</text>\n",
       "</g>\n",
       "<!-- 2&#45;&gt;10 -->\n",
       "<g id=\"edge10\" class=\"edge\">\n",
       "<title>2&#45;&gt;10</title>\n",
       "<path fill=\"none\" stroke=\"black\" d=\"M605.57,-341.58C613.45,-332.89 621.83,-323.63 629.95,-314.67\"/>\n",
       "<polygon fill=\"black\" stroke=\"black\" points=\"632.49,-317.08 636.61,-307.32 627.3,-312.38 632.49,-317.08\"/>\n",
       "</g>\n",
       "<!-- 4 -->\n",
       "<g id=\"node5\" class=\"node\">\n",
       "<title>4</title>\n",
       "<path fill=\"#f3c7a7\" stroke=\"black\" d=\"M355.5,-187C355.5,-187 185.5,-187 185.5,-187 179.5,-187 173.5,-181 173.5,-175 173.5,-175 173.5,-116 173.5,-116 173.5,-110 179.5,-104 185.5,-104 185.5,-104 355.5,-104 355.5,-104 361.5,-104 367.5,-110 367.5,-116 367.5,-116 367.5,-175 367.5,-175 367.5,-181 361.5,-187 355.5,-187\"/>\n",
       "<text text-anchor=\"start\" x=\"224.5\" y=\"-171.8\" font-family=\"Helvetica,sans-Serif\" font-size=\"14.00\">buying ≤ 0.5</text>\n",
       "<text text-anchor=\"start\" x=\"213\" y=\"-156.8\" font-family=\"Helvetica,sans-Serif\" font-size=\"14.00\">entropy = 1.658</text>\n",
       "<text text-anchor=\"start\" x=\"217.5\" y=\"-141.8\" font-family=\"Helvetica,sans-Serif\" font-size=\"14.00\">samples = 230</text>\n",
       "<text text-anchor=\"start\" x=\"181.5\" y=\"-126.8\" font-family=\"Helvetica,sans-Serif\" font-size=\"14.00\">value = [129, 25, 28, 48]</text>\n",
       "<text text-anchor=\"start\" x=\"222\" y=\"-111.8\" font-family=\"Helvetica,sans-Serif\" font-size=\"14.00\">class = unacc</text>\n",
       "</g>\n",
       "<!-- 3&#45;&gt;4 -->\n",
       "<g id=\"edge4\" class=\"edge\">\n",
       "<title>3&#45;&gt;4</title>\n",
       "<path fill=\"none\" stroke=\"black\" d=\"M395.35,-222.58C379.86,-213.14 363.26,-203.02 347.39,-193.35\"/>\n",
       "<polygon fill=\"black\" stroke=\"black\" points=\"349.27,-190.4 338.91,-188.19 345.62,-196.38 349.27,-190.4\"/>\n",
       "</g>\n",
       "<!-- 7 -->\n",
       "<g id=\"node8\" class=\"node\">\n",
       "<title>7</title>\n",
       "<path fill=\"#ebf5fc\" stroke=\"black\" d=\"M541,-187C541,-187 398,-187 398,-187 392,-187 386,-181 386,-175 386,-175 386,-116 386,-116 386,-110 392,-104 398,-104 398,-104 541,-104 541,-104 547,-104 553,-110 553,-116 553,-116 553,-175 553,-175 553,-181 547,-187 541,-187\"/>\n",
       "<text text-anchor=\"start\" x=\"427.5\" y=\"-171.8\" font-family=\"Helvetica,sans-Serif\" font-size=\"14.00\">maint ≤ 2.5</text>\n",
       "<text text-anchor=\"start\" x=\"412\" y=\"-156.8\" font-family=\"Helvetica,sans-Serif\" font-size=\"14.00\">entropy = 0.998</text>\n",
       "<text text-anchor=\"start\" x=\"421\" y=\"-141.8\" font-family=\"Helvetica,sans-Serif\" font-size=\"14.00\">samples = 76</text>\n",
       "<text text-anchor=\"start\" x=\"394\" y=\"-126.8\" font-family=\"Helvetica,sans-Serif\" font-size=\"14.00\">value = [36, 0, 40, 0]</text>\n",
       "<text text-anchor=\"start\" x=\"420\" y=\"-111.8\" font-family=\"Helvetica,sans-Serif\" font-size=\"14.00\">class = vgood</text>\n",
       "</g>\n",
       "<!-- 3&#45;&gt;7 -->\n",
       "<g id=\"edge7\" class=\"edge\">\n",
       "<title>3&#45;&gt;7</title>\n",
       "<path fill=\"none\" stroke=\"black\" d=\"M464.95,-222.58C465.41,-214.79 465.91,-206.53 466.39,-198.45\"/>\n",
       "<polygon fill=\"black\" stroke=\"black\" points=\"469.87,-198.9 466.97,-188.71 462.88,-198.48 469.87,-198.9\"/>\n",
       "</g>\n",
       "<!-- 5 -->\n",
       "<g id=\"node6\" class=\"node\">\n",
       "<title>5</title>\n",
       "<path fill=\"#eeac7c\" stroke=\"black\" d=\"M155,-68C155,-68 12,-68 12,-68 6,-68 0,-62 0,-56 0,-56 0,-12 0,-12 0,-6 6,0 12,0 12,0 155,0 155,0 161,0 167,-6 167,-12 167,-12 167,-56 167,-56 167,-62 161,-68 155,-68\"/>\n",
       "<text text-anchor=\"start\" x=\"26\" y=\"-52.8\" font-family=\"Helvetica,sans-Serif\" font-size=\"14.00\">entropy = 0.816</text>\n",
       "<text text-anchor=\"start\" x=\"35\" y=\"-37.8\" font-family=\"Helvetica,sans-Serif\" font-size=\"14.00\">samples = 79</text>\n",
       "<text text-anchor=\"start\" x=\"8\" y=\"-22.8\" font-family=\"Helvetica,sans-Serif\" font-size=\"14.00\">value = [59, 0, 20, 0]</text>\n",
       "<text text-anchor=\"start\" x=\"35\" y=\"-7.8\" font-family=\"Helvetica,sans-Serif\" font-size=\"14.00\">class = unacc</text>\n",
       "</g>\n",
       "<!-- 4&#45;&gt;5 -->\n",
       "<g id=\"edge5\" class=\"edge\">\n",
       "<title>4&#45;&gt;5</title>\n",
       "<path fill=\"none\" stroke=\"black\" d=\"M200.6,-103.57C184.04,-93.87 166.42,-83.55 150.01,-73.95\"/>\n",
       "<polygon fill=\"black\" stroke=\"black\" points=\"152.21,-71.18 141.81,-69.15 148.67,-77.22 152.21,-71.18\"/>\n",
       "</g>\n",
       "<!-- 6 -->\n",
       "<g id=\"node7\" class=\"node\">\n",
       "<title>6</title>\n",
       "<path fill=\"#f9e4d5\" stroke=\"black\" d=\"M349.5,-68C349.5,-68 197.5,-68 197.5,-68 191.5,-68 185.5,-62 185.5,-56 185.5,-56 185.5,-12 185.5,-12 185.5,-6 191.5,0 197.5,0 197.5,0 349.5,0 349.5,0 355.5,0 361.5,-6 361.5,-12 361.5,-12 361.5,-56 361.5,-56 361.5,-62 355.5,-68 349.5,-68\"/>\n",
       "<text text-anchor=\"start\" x=\"216\" y=\"-52.8\" font-family=\"Helvetica,sans-Serif\" font-size=\"14.00\">entropy = 1.694</text>\n",
       "<text text-anchor=\"start\" x=\"220.5\" y=\"-37.8\" font-family=\"Helvetica,sans-Serif\" font-size=\"14.00\">samples = 151</text>\n",
       "<text text-anchor=\"start\" x=\"193.5\" y=\"-22.8\" font-family=\"Helvetica,sans-Serif\" font-size=\"14.00\">value = [70, 25, 8, 48]</text>\n",
       "<text text-anchor=\"start\" x=\"225\" y=\"-7.8\" font-family=\"Helvetica,sans-Serif\" font-size=\"14.00\">class = unacc</text>\n",
       "</g>\n",
       "<!-- 4&#45;&gt;6 -->\n",
       "<g id=\"edge6\" class=\"edge\">\n",
       "<title>4&#45;&gt;6</title>\n",
       "<path fill=\"none\" stroke=\"black\" d=\"M271.62,-103.73C271.83,-95.88 272.06,-87.63 272.28,-79.67\"/>\n",
       "<polygon fill=\"black\" stroke=\"black\" points=\"275.77,-79.9 272.55,-69.81 268.77,-79.71 275.77,-79.9\"/>\n",
       "</g>\n",
       "<!-- 8 -->\n",
       "<g id=\"node9\" class=\"node\">\n",
       "<title>8</title>\n",
       "<path fill=\"#f3c7a7\" stroke=\"black\" d=\"M539,-68C539,-68 396,-68 396,-68 390,-68 384,-62 384,-56 384,-56 384,-12 384,-12 384,-6 390,0 396,0 396,0 539,0 539,0 545,0 551,-6 551,-12 551,-12 551,-56 551,-56 551,-62 545,-68 539,-68\"/>\n",
       "<text text-anchor=\"start\" x=\"414.5\" y=\"-52.8\" font-family=\"Helvetica,sans-Serif\" font-size=\"14.00\">entropy = 0.94</text>\n",
       "<text text-anchor=\"start\" x=\"419\" y=\"-37.8\" font-family=\"Helvetica,sans-Serif\" font-size=\"14.00\">samples = 56</text>\n",
       "<text text-anchor=\"start\" x=\"392\" y=\"-22.8\" font-family=\"Helvetica,sans-Serif\" font-size=\"14.00\">value = [36, 0, 20, 0]</text>\n",
       "<text text-anchor=\"start\" x=\"419\" y=\"-7.8\" font-family=\"Helvetica,sans-Serif\" font-size=\"14.00\">class = unacc</text>\n",
       "</g>\n",
       "<!-- 7&#45;&gt;8 -->\n",
       "<g id=\"edge8\" class=\"edge\">\n",
       "<title>7&#45;&gt;8</title>\n",
       "<path fill=\"none\" stroke=\"black\" d=\"M468.76,-103.73C468.61,-95.88 468.46,-87.63 468.32,-79.67\"/>\n",
       "<polygon fill=\"black\" stroke=\"black\" points=\"471.82,-79.75 468.14,-69.81 464.82,-79.88 471.82,-79.75\"/>\n",
       "</g>\n",
       "<!-- 9 -->\n",
       "<g id=\"node10\" class=\"node\">\n",
       "<title>9</title>\n",
       "<path fill=\"#399de5\" stroke=\"black\" d=\"M715.5,-68C715.5,-68 581.5,-68 581.5,-68 575.5,-68 569.5,-62 569.5,-56 569.5,-56 569.5,-12 569.5,-12 569.5,-6 575.5,0 581.5,0 581.5,0 715.5,0 715.5,0 721.5,0 727.5,-6 727.5,-12 727.5,-12 727.5,-56 727.5,-56 727.5,-62 721.5,-68 715.5,-68\"/>\n",
       "<text text-anchor=\"start\" x=\"600\" y=\"-52.8\" font-family=\"Helvetica,sans-Serif\" font-size=\"14.00\">entropy = 0.0</text>\n",
       "<text text-anchor=\"start\" x=\"600\" y=\"-37.8\" font-family=\"Helvetica,sans-Serif\" font-size=\"14.00\">samples = 20</text>\n",
       "<text text-anchor=\"start\" x=\"577.5\" y=\"-22.8\" font-family=\"Helvetica,sans-Serif\" font-size=\"14.00\">value = [0, 0, 20, 0]</text>\n",
       "<text text-anchor=\"start\" x=\"599\" y=\"-7.8\" font-family=\"Helvetica,sans-Serif\" font-size=\"14.00\">class = vgood</text>\n",
       "</g>\n",
       "<!-- 7&#45;&gt;9 -->\n",
       "<g id=\"edge9\" class=\"edge\">\n",
       "<title>7&#45;&gt;9</title>\n",
       "<path fill=\"none\" stroke=\"black\" d=\"M536.41,-103.57C552.11,-93.96 568.81,-83.75 584.39,-74.22\"/>\n",
       "<polygon fill=\"black\" stroke=\"black\" points=\"585.94,-77.37 592.64,-69.17 582.28,-71.4 585.94,-77.37\"/>\n",
       "</g>\n",
       "<!-- 11 -->\n",
       "<g id=\"node12\" class=\"node\">\n",
       "<title>11</title>\n",
       "<path fill=\"#399de5\" stroke=\"black\" d=\"M739,-179.5C739,-179.5 596,-179.5 596,-179.5 590,-179.5 584,-173.5 584,-167.5 584,-167.5 584,-123.5 584,-123.5 584,-117.5 590,-111.5 596,-111.5 596,-111.5 739,-111.5 739,-111.5 745,-111.5 751,-117.5 751,-123.5 751,-123.5 751,-167.5 751,-167.5 751,-173.5 745,-179.5 739,-179.5\"/>\n",
       "<text text-anchor=\"start\" x=\"619\" y=\"-164.3\" font-family=\"Helvetica,sans-Serif\" font-size=\"14.00\">entropy = 0.0</text>\n",
       "<text text-anchor=\"start\" x=\"614.5\" y=\"-149.3\" font-family=\"Helvetica,sans-Serif\" font-size=\"14.00\">samples = 317</text>\n",
       "<text text-anchor=\"start\" x=\"592\" y=\"-134.3\" font-family=\"Helvetica,sans-Serif\" font-size=\"14.00\">value = [0, 0, 317, 0]</text>\n",
       "<text text-anchor=\"start\" x=\"618\" y=\"-119.3\" font-family=\"Helvetica,sans-Serif\" font-size=\"14.00\">class = vgood</text>\n",
       "</g>\n",
       "<!-- 10&#45;&gt;11 -->\n",
       "<g id=\"edge11\" class=\"edge\">\n",
       "<title>10&#45;&gt;11</title>\n",
       "<path fill=\"none\" stroke=\"black\" d=\"M672.05,-222.58C671.44,-212.43 670.79,-201.5 670.17,-191.18\"/>\n",
       "<polygon fill=\"black\" stroke=\"black\" points=\"673.68,-191.15 669.59,-181.37 666.69,-191.56 673.68,-191.15\"/>\n",
       "</g>\n",
       "<!-- 12 -->\n",
       "<g id=\"node13\" class=\"node\">\n",
       "<title>12</title>\n",
       "<path fill=\"#fafdfe\" stroke=\"black\" d=\"M951.5,-187C951.5,-187 781.5,-187 781.5,-187 775.5,-187 769.5,-181 769.5,-175 769.5,-175 769.5,-116 769.5,-116 769.5,-110 775.5,-104 781.5,-104 781.5,-104 951.5,-104 951.5,-104 957.5,-104 963.5,-110 963.5,-116 963.5,-116 963.5,-175 963.5,-175 963.5,-181 957.5,-187 951.5,-187\"/>\n",
       "<text text-anchor=\"start\" x=\"815\" y=\"-171.8\" font-family=\"Helvetica,sans-Serif\" font-size=\"14.00\">lug_boot ≤ 1.5</text>\n",
       "<text text-anchor=\"start\" x=\"809\" y=\"-156.8\" font-family=\"Helvetica,sans-Serif\" font-size=\"14.00\">entropy = 1.383</text>\n",
       "<text text-anchor=\"start\" x=\"813.5\" y=\"-141.8\" font-family=\"Helvetica,sans-Serif\" font-size=\"14.00\">samples = 309</text>\n",
       "<text text-anchor=\"start\" x=\"777.5\" y=\"-126.8\" font-family=\"Helvetica,sans-Serif\" font-size=\"14.00\">value = [136, 33, 140, 0]</text>\n",
       "<text text-anchor=\"start\" x=\"817\" y=\"-111.8\" font-family=\"Helvetica,sans-Serif\" font-size=\"14.00\">class = vgood</text>\n",
       "</g>\n",
       "<!-- 10&#45;&gt;12 -->\n",
       "<g id=\"edge12\" class=\"edge\">\n",
       "<title>10&#45;&gt;12</title>\n",
       "<path fill=\"none\" stroke=\"black\" d=\"M741.65,-222.58C757.14,-213.14 773.74,-203.02 789.61,-193.35\"/>\n",
       "<polygon fill=\"black\" stroke=\"black\" points=\"791.38,-196.38 798.09,-188.19 787.73,-190.4 791.38,-196.38\"/>\n",
       "</g>\n",
       "<!-- 13 -->\n",
       "<g id=\"node14\" class=\"node\">\n",
       "<title>13</title>\n",
       "<path fill=\"#f6d4bb\" stroke=\"black\" d=\"M933,-68C933,-68 772,-68 772,-68 766,-68 760,-62 760,-56 760,-56 760,-12 760,-12 760,-6 766,0 772,0 772,0 933,0 933,0 939,0 945,-6 945,-12 945,-12 945,-56 945,-56 945,-62 939,-68 933,-68\"/>\n",
       "<text text-anchor=\"start\" x=\"795\" y=\"-52.8\" font-family=\"Helvetica,sans-Serif\" font-size=\"14.00\">entropy = 1.426</text>\n",
       "<text text-anchor=\"start\" x=\"799.5\" y=\"-37.8\" font-family=\"Helvetica,sans-Serif\" font-size=\"14.00\">samples = 204</text>\n",
       "<text text-anchor=\"start\" x=\"768\" y=\"-22.8\" font-family=\"Helvetica,sans-Serif\" font-size=\"14.00\">value = [110, 33, 61, 0]</text>\n",
       "<text text-anchor=\"start\" x=\"804\" y=\"-7.8\" font-family=\"Helvetica,sans-Serif\" font-size=\"14.00\">class = unacc</text>\n",
       "</g>\n",
       "<!-- 12&#45;&gt;13 -->\n",
       "<g id=\"edge13\" class=\"edge\">\n",
       "<title>12&#45;&gt;13</title>\n",
       "<path fill=\"none\" stroke=\"black\" d=\"M861.29,-103.73C860.28,-95.88 859.23,-87.63 858.21,-79.67\"/>\n",
       "<polygon fill=\"black\" stroke=\"black\" points=\"861.69,-79.28 856.95,-69.8 854.75,-80.16 861.69,-79.28\"/>\n",
       "</g>\n",
       "<!-- 14 -->\n",
       "<g id=\"node15\" class=\"node\">\n",
       "<title>14</title>\n",
       "<path fill=\"#7abdee\" stroke=\"black\" d=\"M1118,-68C1118,-68 975,-68 975,-68 969,-68 963,-62 963,-56 963,-56 963,-12 963,-12 963,-6 969,0 975,0 975,0 1118,0 1118,0 1124,0 1130,-6 1130,-12 1130,-12 1130,-56 1130,-56 1130,-62 1124,-68 1118,-68\"/>\n",
       "<text text-anchor=\"start\" x=\"989\" y=\"-52.8\" font-family=\"Helvetica,sans-Serif\" font-size=\"14.00\">entropy = 0.807</text>\n",
       "<text text-anchor=\"start\" x=\"993.5\" y=\"-37.8\" font-family=\"Helvetica,sans-Serif\" font-size=\"14.00\">samples = 105</text>\n",
       "<text text-anchor=\"start\" x=\"971\" y=\"-22.8\" font-family=\"Helvetica,sans-Serif\" font-size=\"14.00\">value = [26, 0, 79, 0]</text>\n",
       "<text text-anchor=\"start\" x=\"997\" y=\"-7.8\" font-family=\"Helvetica,sans-Serif\" font-size=\"14.00\">class = vgood</text>\n",
       "</g>\n",
       "<!-- 12&#45;&gt;14 -->\n",
       "<g id=\"edge14\" class=\"edge\">\n",
       "<title>12&#45;&gt;14</title>\n",
       "<path fill=\"none\" stroke=\"black\" d=\"M933.78,-103.57C949.58,-93.96 966.37,-83.75 982.04,-74.22\"/>\n",
       "<polygon fill=\"black\" stroke=\"black\" points=\"983.61,-77.35 990.33,-69.17 979.97,-71.37 983.61,-77.35\"/>\n",
       "</g>\n",
       "</g>\n",
       "</svg>\n"
      ],
      "text/plain": [
       "<graphviz.sources.Source at 0x7fdcf7abfbe0>"
      ]
     },
     "execution_count": 19,
     "metadata": {},
     "output_type": "execute_result"
    }
   ],
   "source": [
    "dot_data = tree.export_graphviz(dtc,\n",
    "                                out_file=None,\n",
    "                                feature_names=X.columns,\n",
    "                                class_names=clazz_names,\n",
    "                                filled=True,\n",
    "                                rounded=True,\n",
    "                                special_characters=True)  \n",
    "graph = graphviz.Source(dot_data)  \n",
    "graph"
   ]
  },
  {
   "cell_type": "markdown",
   "metadata": {},
   "source": [
    "This resulted in an accuracy increase from **0.7427745664739884** to **0.8236994219653179**\n",
    "\n",
    "Based on the graph above, this indicates that the classes 'acc' and 'good' do not seem to be impacted by the independent variables. I.e. Of all the decisions made in the tree, the results either end up as class 'unacc' or 'vgood'."
   ]
  },
  {
   "cell_type": "code",
   "execution_count": null,
   "metadata": {},
   "outputs": [],
   "source": []
  }
 ],
 "metadata": {
  "kernelspec": {
   "display_name": "Python 3 (ipykernel)",
   "language": "python",
   "name": "python3"
  },
  "language_info": {
   "codemirror_mode": {
    "name": "ipython",
    "version": 3
   },
   "file_extension": ".py",
   "mimetype": "text/x-python",
   "name": "python",
   "nbconvert_exporter": "python",
   "pygments_lexer": "ipython3",
   "version": "3.10.8"
  }
 },
 "nbformat": 4,
 "nbformat_minor": 4
}
